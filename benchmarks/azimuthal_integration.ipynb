{
 "cells": [
  {
   "cell_type": "markdown",
   "metadata": {},
   "source": [
    "# pyfoamalgo azimuthal integration benchmark"
   ]
  },
  {
   "cell_type": "code",
   "execution_count": null,
   "metadata": {},
   "outputs": [],
   "source": [
    "import os.path as osp\n",
    "\n",
    "import numpy as np\n",
    "from pyFAI.azimuthalIntegrator import AzimuthalIntegrator as PyfaiAzimuthalIntegrator\n",
    "from scipy.signal import find_peaks\n",
    "import matplotlib.pyplot as plt\n",
    "\n",
    "import pyfoamalgo\n",
    "print(pyfoamalgo.__version__)\n",
    "\n",
    "from pyfoamalgo import AzimuthalIntegrator, ConcentricRingsFinder\n",
    "from pyfoamalgo import mask_image_data"
   ]
  },
  {
   "cell_type": "code",
   "execution_count": null,
   "metadata": {},
   "outputs": [],
   "source": [
    "def create_image(w, h, cx, cy, *, aspect_ratio=1, lw=2, radius=None):\n",
    "    if cx is None:\n",
    "        cx = int(w / 2)\n",
    "    if cy is None:\n",
    "        cy = int(h / 2)\n",
    "        \n",
    "    img = np.zeros((w, h), dtype=np.float32)\n",
    "    \n",
    "    if radius is None:\n",
    "        radius = [20, 100, 130, 200, 300]\n",
    "    \n",
    "    for r in radius:\n",
    "        for theta in np.linspace(0, 360, 10000):\n",
    "            y = cy + aspect_ratio * r * np.cos(theta) + (2 * np.random.random_sample() - 1.)\n",
    "            x = cx + r * np.sin(theta) + (2 * np.random.random_sample() - 1.)\n",
    "            img[int(y-lw/2):int(y+lw/2), int(x-lw/2):int(x+lw/2)] = 1\n",
    "        \n",
    "    \n",
    "    img[:, 100:110] = np.nan\n",
    "    img[int(h/2):int(h/2) + 10, :] = np.nan\n",
    "    \n",
    "    return img"
   ]
  },
  {
   "cell_type": "code",
   "execution_count": null,
   "metadata": {},
   "outputs": [],
   "source": [
    "cy, cx = 400, 320\n",
    "pixel1, pixel2 = 200e-6, 100e-6  # pixel size (y, x)\n",
    "\n",
    "img = create_image(480, 640, cx, cy, aspect_ratio=pixel2/pixel1)\n",
    "\n",
    "_, ax = plt.subplots(figsize=(12, 12))\n",
    "ax.imshow(img)"
   ]
  },
  {
   "cell_type": "markdown",
   "metadata": {},
   "source": [
    "#### Integrate a single image"
   ]
  },
  {
   "cell_type": "code",
   "execution_count": null,
   "metadata": {},
   "outputs": [],
   "source": [
    "dist = 1  # sample distance\n",
    "npt = 512  # number of integration points\n",
    "poni1, poni2 = cy * pixel1, cx * pixel2  # integration center (y, x)"
   ]
  },
  {
   "cell_type": "code",
   "execution_count": null,
   "metadata": {},
   "outputs": [],
   "source": [
    "# %%timeit\n",
    "\n",
    "pyfai_method = 'nosplit_csr'\n",
    "pyfai_integrator = PyfaiAzimuthalIntegrator(\n",
    "    dist=dist, poni1=poni1, poni2=poni2, pixel1=pixel1, pixel2=pixel2, wavelength=1e-10)\n",
    "\n",
    "q_gt, I_gt = pyfai_integrator.integrate1d(img, npt, unit=\"q_A^-1\", method=pyfai_method)"
   ]
  },
  {
   "cell_type": "code",
   "execution_count": null,
   "metadata": {},
   "outputs": [],
   "source": [
    "%timeit q_gt, I_gt = pyfai_integrator.integrate1d(img, npt, unit=\"q_A^-1\", method=pyfai_method)"
   ]
  },
  {
   "cell_type": "code",
   "execution_count": null,
   "metadata": {},
   "outputs": [],
   "source": [
    "# %%timeit\n",
    "\n",
    "integrator = AzimuthalIntegrator(\n",
    "    dist=dist, poni1=poni1, poni2=poni2, pixel1=pixel1, pixel2=pixel2, wavelength=1e-10)\n",
    "\n",
    "q, I = integrator.integrate1d(img, npt=npt)"
   ]
  },
  {
   "cell_type": "code",
   "execution_count": null,
   "metadata": {},
   "outputs": [],
   "source": [
    "%timeit q, I = integrator.integrate1d(img, npt=npt)"
   ]
  },
  {
   "cell_type": "code",
   "execution_count": null,
   "metadata": {},
   "outputs": [],
   "source": [
    "_, ax = plt.subplots(figsize=(12, 6))\n",
    "\n",
    "ax.plot(1e-10 * q, I, '-', label='foamalgo')\n",
    "ax.plot(q_gt, I_gt, '--', label='pyFAI')\n",
    "ax.set_xlabel(\"q (1/A)\", fontsize=16)\n",
    "ax.set_ylabel(\"I (arb.)\", fontsize=16)\n",
    "ax.legend(fontsize=16)"
   ]
  },
  {
   "cell_type": "markdown",
   "metadata": {},
   "source": [
    "#### Integrate an array of images"
   ]
  },
  {
   "cell_type": "code",
   "execution_count": null,
   "metadata": {},
   "outputs": [],
   "source": [
    "import multiprocessing as mp\n",
    "\n",
    "print(mp.cpu_count())"
   ]
  },
  {
   "cell_type": "code",
   "execution_count": null,
   "metadata": {},
   "outputs": [],
   "source": [
    "img_array = np.tile(img, (40, 1, 1))\n",
    "\n",
    "q_a, I_a = integrator.integrate1d(img_array, npt=npt)\n",
    "np.testing.assert_array_equal(q_a, q)\n",
    "np.testing.assert_array_equal(I_a[0], I)\n",
    "np.testing.assert_array_equal(I_a[39], I)\n",
    "\n",
    "%timeit integrator.integrate1d(img_array, npt=npt)"
   ]
  },
  {
   "cell_type": "markdown",
   "metadata": {},
   "source": [
    "#### Concentric ring finding"
   ]
  },
  {
   "cell_type": "code",
   "execution_count": null,
   "metadata": {},
   "outputs": [],
   "source": [
    "cx0 = cx - 8\n",
    "cy0 = cy + 8\n",
    "finder = ConcentricRingsFinder(pixel2, pixel1)\n",
    "cx_opt, cy_opt = finder.search(img, cx0, cy0, min_count=1)\n",
    "\n",
    "print(\"Optimized cx = \", cx_opt, \", cy = \", cy_opt)\n",
    "print(\"Ground truth cx = \", cx, \", cy = \", cy)"
   ]
  },
  {
   "cell_type": "code",
   "execution_count": null,
   "metadata": {},
   "outputs": [],
   "source": [
    "%timeit finder.search(img, cx, cy, min_count=1)"
   ]
  }
 ],
 "metadata": {
  "kernelspec": {
   "display_name": "foamalgo",
   "language": "python",
   "name": "foamalgo"
  },
  "language_info": {
   "codemirror_mode": {
    "name": "ipython",
    "version": 3
   },
   "file_extension": ".py",
   "mimetype": "text/x-python",
   "name": "python",
   "nbconvert_exporter": "python",
   "pygments_lexer": "ipython3",
   "version": "3.7.8"
  }
 },
 "nbformat": 4,
 "nbformat_minor": 4
}
